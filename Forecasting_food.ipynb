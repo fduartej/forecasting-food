{
  "nbformat": 4,
  "nbformat_minor": 0,
  "metadata": {
    "colab": {
      "provenance": [],
      "authorship_tag": "ABX9TyNSNyzNLVYNv8AeXedh8Ntt",
      "include_colab_link": true
    },
    "kernelspec": {
      "name": "python3",
      "display_name": "Python 3"
    },
    "language_info": {
      "name": "python"
    }
  },
  "cells": [
    {
      "cell_type": "markdown",
      "metadata": {
        "id": "view-in-github",
        "colab_type": "text"
      },
      "source": [
        "<a href=\"https://colab.research.google.com/github/fduartej/forecasting-food/blob/main/Forecasting_food.ipynb\" target=\"_parent\"><img src=\"https://colab.research.google.com/assets/colab-badge.svg\" alt=\"Open In Colab\"/></a>"
      ]
    },
    {
      "cell_type": "markdown",
      "source": [
        "**Forecasting Food**"
      ],
      "metadata": {
        "id": "wutIpibCSxfb"
      }
    },
    {
      "cell_type": "markdown",
      "source": [
        "Resumen\n",
        "\n",
        "El presente trabajo tiene como objetivo la creacion de un modelo de regresion de ML para el prediccion de la comida (forecasting food)"
      ],
      "metadata": {
        "id": "BwZotVVLS18T"
      }
    },
    {
      "cell_type": "code",
      "source": [
        "# imports\n",
        "\n",
        "\n",
        "# data\n",
        "\n",
        "# model"
      ],
      "metadata": {
        "id": "SNRp-wlBTIiR"
      },
      "execution_count": null,
      "outputs": []
    }
  ]
}