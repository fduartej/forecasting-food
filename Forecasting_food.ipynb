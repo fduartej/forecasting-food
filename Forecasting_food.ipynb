{
  "cells": [
    {
      "cell_type": "markdown",
      "metadata": {
        "id": "view-in-github",
        "colab_type": "text"
      },
      "source": [
        "<a href=\"https://colab.research.google.com/github/fduartej/forecasting-food/blob/main/Forecasting_food.ipynb\" target=\"_parent\"><img src=\"https://colab.research.google.com/assets/colab-badge.svg\" alt=\"Open In Colab\"/></a>"
      ]
    },
    {
      "cell_type": "markdown",
      "metadata": {
        "id": "wutIpibCSxfb"
      },
      "source": [
        "**Forecasting Food**"
      ]
    },
    {
      "cell_type": "markdown",
      "metadata": {
        "id": "BwZotVVLS18T"
      },
      "source": [
        "Resumen\n",
        "\n",
        "El presente trabajo tiene como objetivo la creacion de un modelo de regresion de ML para el prediccion de la comida (forecasting food)"
      ]
    },
    {
      "cell_type": "code",
      "execution_count": 1,
      "metadata": {
        "id": "SNRp-wlBTIiR"
      },
      "outputs": [],
      "source": [
        "# imports\n",
        "from nltk.corpus import stopwords \n",
        "import re\n",
        "from sklearn.feature_extraction.text import CountVectorizer, TfidfVectorizer\n",
        "from sklearn.model_selection import train_test_split\n",
        "from sklearn.metrics import accuracy_score\n",
        "import pandas as pd"
      ]
    }
  ],
  "metadata": {
    "colab": {
      "provenance": [],
      "include_colab_link": true
    },
    "kernelspec": {
      "display_name": "Python 3.8.10 64-bit (microsoft store)",
      "language": "python",
      "name": "python3"
    },
    "language_info": {
      "codemirror_mode": {
        "name": "ipython",
        "version": 3
      },
      "file_extension": ".py",
      "mimetype": "text/x-python",
      "name": "python",
      "nbconvert_exporter": "python",
      "pygments_lexer": "ipython3",
      "version": "3.8.10"
    },
    "vscode": {
      "interpreter": {
        "hash": "5add2ac62d0b9aad6d5c9cef4940b553fa84133574f0622d8d549e673f88c62c"
      }
    }
  },
  "nbformat": 4,
  "nbformat_minor": 0
}